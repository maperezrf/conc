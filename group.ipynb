{
 "cells": [
  {
   "cell_type": "code",
   "execution_count": 1,
   "metadata": {},
   "outputs": [],
   "source": [
    "import pandas as pd \n",
    "pd.options.display.max_columns = 60"
   ]
  },
  {
   "cell_type": "code",
   "execution_count": 14,
   "metadata": {},
   "outputs": [],
   "source": [
    "res = pd.read_csv('C:/Users/maperezr/OneDrive - Falabella/General/DATA/CONC/output/220831_resultado.csv', sep=';', dtype='object')"
   ]
  },
  {
   "cell_type": "code",
   "execution_count": 4,
   "metadata": {},
   "outputs": [],
   "source": [
    "aux = res.groupby('f12_nfolio')['f12_gco_inc_nc'].unique().reset_index()"
   ]
  },
  {
   "cell_type": "code",
   "execution_count": 5,
   "metadata": {},
   "outputs": [],
   "source": [
    "listado = aux.loc[aux['f12_gco_inc_nc'].apply(lambda x : True if 'Tiene NC' in x  else False), 'f12_nfolio'].unique()"
   ]
  },
  {
   "cell_type": "code",
   "execution_count": 6,
   "metadata": {},
   "outputs": [],
   "source": [
    "res.loc[res['f12_nfolio'].isin(listado), 'gco_ind_nc_tot'] = 'Tiene NC'\n",
    "res.loc[res['gco_ind_nc_tot'].isna(),'gco_ind_nc_tot'] = 'No tiene NC'"
   ]
  },
  {
   "cell_type": "code",
   "execution_count": 7,
   "metadata": {},
   "outputs": [
    {
     "data": {
      "text/html": [
       "<div>\n",
       "<style scoped>\n",
       "    .dataframe tbody tr th:only-of-type {\n",
       "        vertical-align: middle;\n",
       "    }\n",
       "\n",
       "    .dataframe tbody tr th {\n",
       "        vertical-align: top;\n",
       "    }\n",
       "\n",
       "    .dataframe thead th {\n",
       "        text-align: right;\n",
       "    }\n",
       "</style>\n",
       "<table border=\"1\" class=\"dataframe\">\n",
       "  <thead>\n",
       "    <tr style=\"text-align: right;\">\n",
       "      <th></th>\n",
       "      <th>f12_nfolio</th>\n",
       "      <th>f12_gco_inc_nc</th>\n",
       "      <th>gco_ind_nc_tot</th>\n",
       "    </tr>\n",
       "  </thead>\n",
       "  <tbody>\n",
       "    <tr>\n",
       "      <th>97</th>\n",
       "      <td>12686109007</td>\n",
       "      <td>No tiene NC</td>\n",
       "      <td>Tiene NC</td>\n",
       "    </tr>\n",
       "    <tr>\n",
       "      <th>184</th>\n",
       "      <td>12686244111</td>\n",
       "      <td>No tiene NC</td>\n",
       "      <td>Tiene NC</td>\n",
       "    </tr>\n",
       "    <tr>\n",
       "      <th>229</th>\n",
       "      <td>12686325087</td>\n",
       "      <td>No tiene NC</td>\n",
       "      <td>Tiene NC</td>\n",
       "    </tr>\n",
       "    <tr>\n",
       "      <th>268</th>\n",
       "      <td>12686380093</td>\n",
       "      <td>No tiene NC</td>\n",
       "      <td>Tiene NC</td>\n",
       "    </tr>\n",
       "    <tr>\n",
       "      <th>318</th>\n",
       "      <td>12686483367</td>\n",
       "      <td>No tiene NC</td>\n",
       "      <td>Tiene NC</td>\n",
       "    </tr>\n",
       "    <tr>\n",
       "      <th>...</th>\n",
       "      <td>...</td>\n",
       "      <td>...</td>\n",
       "      <td>...</td>\n",
       "    </tr>\n",
       "    <tr>\n",
       "      <th>1650366</th>\n",
       "      <td>12700767923</td>\n",
       "      <td>No tiene NC</td>\n",
       "      <td>Tiene NC</td>\n",
       "    </tr>\n",
       "    <tr>\n",
       "      <th>1650375</th>\n",
       "      <td>12700795759</td>\n",
       "      <td>No tiene NC</td>\n",
       "      <td>Tiene NC</td>\n",
       "    </tr>\n",
       "    <tr>\n",
       "      <th>1650412</th>\n",
       "      <td>12700857594</td>\n",
       "      <td>No tiene NC</td>\n",
       "      <td>Tiene NC</td>\n",
       "    </tr>\n",
       "    <tr>\n",
       "      <th>1650433</th>\n",
       "      <td>12700903987</td>\n",
       "      <td>No tiene NC</td>\n",
       "      <td>Tiene NC</td>\n",
       "    </tr>\n",
       "    <tr>\n",
       "      <th>1650522</th>\n",
       "      <td>12701081196</td>\n",
       "      <td>No tiene NC</td>\n",
       "      <td>Tiene NC</td>\n",
       "    </tr>\n",
       "  </tbody>\n",
       "</table>\n",
       "<p>43087 rows × 3 columns</p>\n",
       "</div>"
      ],
      "text/plain": [
       "          f12_nfolio f12_gco_inc_nc gco_ind_nc_tot\n",
       "97       12686109007    No tiene NC       Tiene NC\n",
       "184      12686244111    No tiene NC       Tiene NC\n",
       "229      12686325087    No tiene NC       Tiene NC\n",
       "268      12686380093    No tiene NC       Tiene NC\n",
       "318      12686483367    No tiene NC       Tiene NC\n",
       "...              ...            ...            ...\n",
       "1650366  12700767923    No tiene NC       Tiene NC\n",
       "1650375  12700795759    No tiene NC       Tiene NC\n",
       "1650412  12700857594    No tiene NC       Tiene NC\n",
       "1650433  12700903987    No tiene NC       Tiene NC\n",
       "1650522  12701081196    No tiene NC       Tiene NC\n",
       "\n",
       "[43087 rows x 3 columns]"
      ]
     },
     "execution_count": 7,
     "metadata": {},
     "output_type": "execute_result"
    }
   ],
   "source": [
    "res.loc[res['f12_gco_inc_nc'] != res['gco_ind_nc_tot'], ['f12_nfolio','f12_gco_inc_nc', 'gco_ind_nc_tot']]"
   ]
  },
  {
   "cell_type": "code",
   "execution_count": 8,
   "metadata": {},
   "outputs": [
    {
     "data": {
      "text/html": [
       "<div>\n",
       "<style scoped>\n",
       "    .dataframe tbody tr th:only-of-type {\n",
       "        vertical-align: middle;\n",
       "    }\n",
       "\n",
       "    .dataframe tbody tr th {\n",
       "        vertical-align: top;\n",
       "    }\n",
       "\n",
       "    .dataframe thead th {\n",
       "        text-align: right;\n",
       "    }\n",
       "</style>\n",
       "<table border=\"1\" class=\"dataframe\">\n",
       "  <thead>\n",
       "    <tr style=\"text-align: right;\">\n",
       "      <th></th>\n",
       "      <th>f12_nfolio</th>\n",
       "      <th>f12_gco_inc_nc</th>\n",
       "      <th>gco_ind_nc_tot</th>\n",
       "    </tr>\n",
       "  </thead>\n",
       "  <tbody>\n",
       "    <tr>\n",
       "      <th>229</th>\n",
       "      <td>12686325087</td>\n",
       "      <td>No tiene NC</td>\n",
       "      <td>Tiene NC</td>\n",
       "    </tr>\n",
       "    <tr>\n",
       "      <th>946879</th>\n",
       "      <td>12686325087</td>\n",
       "      <td>Tiene NC</td>\n",
       "      <td>Tiene NC</td>\n",
       "    </tr>\n",
       "  </tbody>\n",
       "</table>\n",
       "</div>"
      ],
      "text/plain": [
       "         f12_nfolio f12_gco_inc_nc gco_ind_nc_tot\n",
       "229     12686325087    No tiene NC       Tiene NC\n",
       "946879  12686325087       Tiene NC       Tiene NC"
      ]
     },
     "execution_count": 8,
     "metadata": {},
     "output_type": "execute_result"
    }
   ],
   "source": [
    "res.loc[res['f12_nfolio']==\"12686325087\", ['f12_nfolio','f12_gco_inc_nc', 'gco_ind_nc_tot']]"
   ]
  }
 ],
 "metadata": {
  "kernelspec": {
   "display_name": "Python 3.9.12 ('base')",
   "language": "python",
   "name": "python3"
  },
  "language_info": {
   "codemirror_mode": {
    "name": "ipython",
    "version": 3
   },
   "file_extension": ".py",
   "mimetype": "text/x-python",
   "name": "python",
   "nbconvert_exporter": "python",
   "pygments_lexer": "ipython3",
   "version": "3.9.12"
  },
  "orig_nbformat": 4,
  "vscode": {
   "interpreter": {
    "hash": "82a490cbc5ab7ede3fb5f9c339977e226ff85331602536a0bba4d2a51bd464ee"
   }
  }
 },
 "nbformat": 4,
 "nbformat_minor": 2
}
