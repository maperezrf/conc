{
 "cells": [
  {
   "cell_type": "code",
   "execution_count": 2,
   "metadata": {},
   "outputs": [],
   "source": [
    "import pandas as pd\n",
    "pd.options.display.max_columns = 500\n",
    "import numpy as np"
   ]
  },
  {
   "cell_type": "code",
   "execution_count": 2,
   "metadata": {},
   "outputs": [],
   "source": [
    "res = pd.read_csv('C:/Users/maperezr/OneDrive - Falabella/General/DATA/CONC/pbi/resultado_agg.csv', sep = ';', dtype= 'object')"
   ]
  },
  {
   "cell_type": "code",
   "execution_count": 7,
   "metadata": {},
   "outputs": [],
   "source": [
    "usr = pd.read_excel('input/220509_usr_locales.xlsx', sheet_name = 'Sheet1', dtype='object')"
   ]
  },
  {
   "cell_type": "code",
   "execution_count": 10,
   "metadata": {},
   "outputs": [
    {
     "data": {
      "text/plain": [
       "array(['FALCO CD RECIBO', 'FALCO JEFE DE VENTAS',\n",
       "       'FALCO CD ANALISTA DESPACHOS', 'FALCO COMPRADOR',\n",
       "       'FALCO INGENIERIA HD', 'FALCO JEFE SAC', 'FALCO ADMON NOVIOS',\n",
       "       'FALCO VENDEDORES', 'FALCO ASESOR SAC', 'FALCO PLANNERS',\n",
       "       'FALCO CALL CENTER', 'FALCO JEFE DE POS',\n",
       "       'FALCO NEG ASISTENTE COMPRAS', 'FALCO JEFE DE CD C&B',\n",
       "       'FALCO GOPE LICITACIONES',\n",
       "       'FALCO SUPER USUARIO LIMITE DE SEGURIDAD',\n",
       "       'FALCO CD ENC DESPACHOS', 'FALCO INVENTARIOS CONTAB',\n",
       "       'FALCO ASESOR MULTISERVICIO', 'FALCO CD INGENIERIA ANALISTA',\n",
       "       'FALCO CD INGENIERIA JEFE ENCARGADO', 'T. NOVIOS MADRINA',\n",
       "       'FALCO INVENTARIOS', 'FALCO GESTIÓN USUARIOS',\n",
       "       'FALCO CLICK & COLLECT', 'FALCO GTE DE LINEA', 'FALCO GTE TIENDA',\n",
       "       'FALCO AUXILIAR ABASTECIMIENTO', 'FALCO ABASTECIMIENTO',\n",
       "       'FALCO AUDITORIA', 'FALCO CD ENC CONTROL INTERNO',\n",
       "       'FALCO CD CONTROL INTERNO', 'FALCO JEFE OMNICANAL',\n",
       "       'FALCO CONTROL INTERNO Y SAGRLAFT', 'FALCO PM VENTA EMPRESA',\n",
       "       'FALCO VE ASISTENTE', 'FALCO CD ALMACEN', 'FALCO CD SAC',\n",
       "       'FALCO RRHH', 'FALCO SUPER USER LIM SEG - PRECIOS',\n",
       "       'FALCO DVD JEFE CONTROL INTERNO', 'FALCO JPP',\n",
       "       'FALCO ANALISTA FINANCIERO', 'FALCO DVD ANALISTA OPE',\n",
       "       'FALCO GERENTE DE VENTAS', 'FALCO DVD ASIS CONTROL INTERNO',\n",
       "       'FALCO VE EJECUTIVOS', 'FALCO TI', 'FALCO PLANNERS IMPORT',\n",
       "       'FALCO JEFE MULTIBRAND', 'FALCO PM INVENTARIO',\n",
       "       'FALCO CORDINADOR CONTABILIDAD', 'FALCO ANALISTA CD',\n",
       "       'FALCO DVD CONTROL INTERNO', 'FALCO T TESORERIA',\n",
       "       'FALCO CATEGORY CRATE & BARREL', 'FALCO ASESOR COMERCIAL C&B',\n",
       "       'FALCO ANALISTA GOPE', 'FALCO GOPE ANALISTA', 'FALCO SAC F11',\n",
       "       'FALCO CD ENC ALMACEN', 'FALCO AUXILIAR DE BODEGA C&B',\n",
       "       'FALCO VE GERENTE', 'FALCO JEFE DE VENTAS C&B',\n",
       "       'FALCO CONTABILIDAD MAVESA', 'FALCO MAVESA COORDINADOR',\n",
       "       'FALCO ADMON TESORERIA', 'SUPER USUARIOS', 'FALCO CD GERENTE', ' '],\n",
       "      dtype=object)"
      ]
     },
     "execution_count": 10,
     "metadata": {},
     "output_type": "execute_result"
    }
   ],
   "source": [
    "usr['Grupos'].unique()"
   ]
  },
  {
   "cell_type": "code",
   "execution_count": 4,
   "metadata": {},
   "outputs": [],
   "source": [
    "loc_abs = pd.read_csv('input/bquxjob_6fe902b0_1831961bde5.csv', dtype='object' )"
   ]
  },
  {
   "cell_type": "code",
   "execution_count": 5,
   "metadata": {},
   "outputs": [],
   "source": [
    "loc_abs = loc_abs.drop_duplicates('NFOLIO')"
   ]
  },
  {
   "cell_type": "code",
   "execution_count": null,
   "metadata": {},
   "outputs": [],
   "source": [
    "tiendas = [\n",
    "'FALABELLA - WTC CALI',\n",
    "'FALABELLA - PARQUE CARACOLI BUCARAMANGA',\n",
    "'FALABELLA - TIENDA CACIQUE BUCARAMANGA',\n",
    "'FALABELLA - GALERIAS',\n",
    "'FALABELLA - LA ARKADIA',\n",
    "'FALABELLA - LA FELICIDAD',\n",
    "'FALABELLA - SUBA',\n",
    "'FALABELLA - CASTILLO SHOPPING MALL CARTAGENA',\n",
    "'FALABELLA - PARQUE COLINA',\n",
    "'FALABELLA - DIVER PLAZA',\n",
    "'FALABELLA - BUENAVISTA',\n",
    "'FALABELLA - CENTRO MAYOR',\n",
    "'FALABELLA - TITAN',\n",
    "'FALABELLA - HAYUELOS',\n",
    "'FALABELLA - UNICENTRO BOGOTA',\n",
    "'FALABELLA - SANTAFE',\n",
    "'FALABELLA - PLAZA CENTRAL AMERICAS',\n",
    "'FALABELLA - ACQUA POWER CENTER IBAGUE',\n",
    "'FALABELLA - SAN DIEGO',\n",
    "'FALABELLA - JARDIN PLAZA CALI',\n",
    "'FALABELLA - FONTANAR CHIA',\n",
    "'FALABELLA - VILLA COUNTRY BARRANQUILLA',\n",
    "'FALABELLA - ALEGRA BARRANQUILLA',\n",
    "'FALABELLA - SANTAFE MEDELLIN',\n",
    "'FALABELLA - LA CAROLA',\n",
    "'FALABELLA - PARQUE ARBOLEDA PEREIRA',\n",
    "'FALABELLA - PRIMAVERA VILLAVICENCIO',\n",
    "'FALCO INVENTARIOS'\n",
    "]\n",
    "\n",
    "cd = [\n",
    "'FALABELLA - CENTRO DE DISTRIBUCION',\n",
    "'FALABELLA-ADMINISTRATIVO',\n",
    "'FALABELLA - ECOMMERCE'\n",
    "]\n",
    "\n",
    "cd_gup = ['FALCO CD ANALISTA DESPACHOS']"
   ]
  },
  {
   "cell_type": "code",
   "execution_count": null,
   "metadata": {},
   "outputs": [],
   "source": [
    "('FALCO CD RECIBO', 'FALCO JEFE DE VENTAS',\n",
    "'FALCO CD ANALISTA DESPACHOS', 'FALCO COMPRADOR',\n",
    "'FALCO INGENIERIA HD', 'FALCO JEFE SAC', 'FALCO ADMON NOVIOS',\n",
    "'FALCO VENDEDORES', 'FALCO ASESOR SAC', 'FALCO PLANNERS',\n",
    "'FALCO CALL CENTER', 'FALCO JEFE DE POS',\n",
    "'FALCO NEG ASISTENTE COMPRAS', 'FALCO JEFE DE CD C&B',\n",
    "'FALCO GOPE LICITACIONES',\n",
    "'FALCO SUPER USUARIO LIMITE DE SEGURIDAD',\n",
    "'FALCO CD ENC DESPACHOS', 'FALCO INVENTARIOS CONTAB',\n",
    "'FALCO ASESOR MULTISERVICIO', 'FALCO CD INGENIERIA ANALISTA',\n",
    "'FALCO CD INGENIERIA JEFE ENCARGADO', 'T. NOVIOS MADRINA',\n",
    "'FALCO INVENTARIOS', 'FALCO GESTIÓN USUARIOS',\n",
    "'FALCO CLICK & COLLECT', 'FALCO GTE DE LINEA', 'FALCO GTE TIENDA',\n",
    "'FALCO AUXILIAR ABASTECIMIENTO', 'FALCO ABASTECIMIENTO',\n",
    "'FALCO AUDITORIA', 'FALCO CD ENC CONTROL INTERNO',\n",
    "'FALCO CD CONTROL INTERNO', 'FALCO JEFE OMNICANAL',\n",
    "'FALCO CONTROL INTERNO Y SAGRLAFT', 'FALCO PM VENTA EMPRESA',\n",
    "'FALCO VE ASISTENTE', 'FALCO CD ALMACEN', 'FALCO CD SAC',\n",
    "'FALCO RRHH', 'FALCO SUPER USER LIM SEG - PRECIOS',\n",
    "'FALCO DVD JEFE CONTROL INTERNO', 'FALCO JPP',\n",
    "'FALCO ANALISTA FINANCIERO', 'FALCO DVD ANALISTA OPE',\n",
    "'FALCO GERENTE DE VENTAS', 'FALCO DVD ASIS CONTROL INTERNO',\n",
    "'FALCO VE EJECUTIVOS', 'FALCO TI', 'FALCO PLANNERS IMPORT',\n",
    "'FALCO JEFE MULTIBRAND', 'FALCO PM INVENTARIO',\n",
    "'FALCO CORDINADOR CONTABILIDAD', 'FALCO ANALISTA CD',\n",
    "'FALCO DVD CONTROL INTERNO', 'FALCO T TESORERIA',\n",
    "'FALCO CATEGORY CRATE & BARREL', 'FALCO ASESOR COMERCIAL C&B',\n",
    "'FALCO ANALISTA GOPE', 'FALCO GOPE ANALISTA', 'FALCO SAC F11',\n",
    "'FALCO CD ENC ALMACEN', 'FALCO AUXILIAR DE BODEGA C&B',\n",
    "'FALCO VE GERENTE', 'FALCO JEFE DE VENTAS C&B',\n",
    "'FALCO CONTABILIDAD MAVESA', 'FALCO MAVESA COORDINADOR',\n",
    "'FALCO ADMON TESORERIA', 'SUPER USUARIOS', 'FALCO CD GERENTE', ' ')"
   ]
  },
  {
   "cell_type": "code",
   "execution_count": null,
   "metadata": {},
   "outputs": [],
   "source": [
    "usr.loc[usr['Sucursal'].isin(tiendas), 'local_agg'] = 'Tienda'\n",
    "usr.loc[usr['Sucursal'].isin(cd), 'local_agg'] = 'CD'\n",
    "usr.loc[usr['Grupos'].isin(cd_gup), 'local_agg'] = 'CD'\n",
    "usr.loc[usr['Usuario'] == 'DLOZADA', 'local_agg'] = 'CD'\n",
    "usr.loc[usr['Usuario'].isin(['EXPSRXCO', 'EXPSRXCO']), 'local_agg'] = 'Sistema'\n",
    "\n",
    "\n"
   ]
  },
  {
   "cell_type": "code",
   "execution_count": null,
   "metadata": {},
   "outputs": [
    {
     "data": {
      "text/html": [
       "<div>\n",
       "<style scoped>\n",
       "    .dataframe tbody tr th:only-of-type {\n",
       "        vertical-align: middle;\n",
       "    }\n",
       "\n",
       "    .dataframe tbody tr th {\n",
       "        vertical-align: top;\n",
       "    }\n",
       "\n",
       "    .dataframe thead th {\n",
       "        text-align: right;\n",
       "    }\n",
       "</style>\n",
       "<table border=\"1\" class=\"dataframe\">\n",
       "  <thead>\n",
       "    <tr style=\"text-align: right;\">\n",
       "      <th></th>\n",
       "      <th>Usuario</th>\n",
       "      <th>Rut</th>\n",
       "      <th>Usuario.1</th>\n",
       "      <th>Grupos</th>\n",
       "      <th>Sucursal</th>\n",
       "      <th>Cod_CCosto</th>\n",
       "      <th>Centro_Costo</th>\n",
       "      <th>Cod_Empleado</th>\n",
       "      <th>Cargo</th>\n",
       "      <th>Departamento</th>\n",
       "      <th>local_agg</th>\n",
       "    </tr>\n",
       "  </thead>\n",
       "  <tbody>\n",
       "    <tr>\n",
       "      <th>0</th>\n",
       "      <td>HJIMENEZ</td>\n",
       "      <td>6531778</td>\n",
       "      <td>HECTOR HERNAN JIMENEZ</td>\n",
       "      <td>FALCO ABASTECIMIENTO</td>\n",
       "      <td>FALABELLA - WTC CALI</td>\n",
       "      <td>454</td>\n",
       "      <td>GCIA GENERAL TIENDA WTC</td>\n",
       "      <td>158585</td>\n",
       "      <td>ENCARGADO DE ABASTECIMIENTO</td>\n",
       "      <td>TDA-ABASTECIMIENTO Y LOGISTICA</td>\n",
       "      <td>Tienda</td>\n",
       "    </tr>\n",
       "    <tr>\n",
       "      <th>1</th>\n",
       "      <td>HEFLORES</td>\n",
       "      <td>9772580</td>\n",
       "      <td>HECTOR IVAN FLORES</td>\n",
       "      <td>FALCO CD ENC DESPACHOS</td>\n",
       "      <td>FALABELLA - CENTRO DE DISTRIBUCION</td>\n",
       "      <td>1040</td>\n",
       "      <td>SALIDA CT LATAM</td>\n",
       "      <td>944440</td>\n",
       "      <td>ENCARGADO DE DESPACHOS</td>\n",
       "      <td>TDA-CD</td>\n",
       "      <td>CD</td>\n",
       "    </tr>\n",
       "    <tr>\n",
       "      <th>2</th>\n",
       "      <td>NCESPEDES</td>\n",
       "      <td>16943914</td>\n",
       "      <td>NELSON ALVEIRO CESPEDES</td>\n",
       "      <td>FALCO CLICK &amp; COLLECT</td>\n",
       "      <td>FALABELLA - WTC CALI</td>\n",
       "      <td>454</td>\n",
       "      <td>GCIA GENERAL TIENDA WTC</td>\n",
       "      <td>44385</td>\n",
       "      <td>AUXILIAR LOGISTICA OMNICANAL</td>\n",
       "      <td>TDA-PICK UP IN STORE</td>\n",
       "      <td>Tienda</td>\n",
       "    </tr>\n",
       "    <tr>\n",
       "      <th>3</th>\n",
       "      <td>DALAYON</td>\n",
       "      <td>35221084</td>\n",
       "      <td>DIANA MIREYA ALAYON</td>\n",
       "      <td>FALCO PM INVENTARIO</td>\n",
       "      <td>FALABELLA-ADMINISTRATIVO</td>\n",
       "      <td>172</td>\n",
       "      <td>GCIA. SEGURIDAD Y PREVENCION DE PERDIDAS</td>\n",
       "      <td>47066</td>\n",
       "      <td>PROJECT MANAGER INVENTARIOS</td>\n",
       "      <td>COFA-ADMINISTRACION CENTRAL</td>\n",
       "      <td>CD</td>\n",
       "    </tr>\n",
       "    <tr>\n",
       "      <th>4</th>\n",
       "      <td>FGUAMONTE</td>\n",
       "      <td>35393555</td>\n",
       "      <td>FAUDY YOHANA GUASCA</td>\n",
       "      <td>FALCO DVD CONTROL INTERNO</td>\n",
       "      <td>FALABELLA - ECOMMERCE</td>\n",
       "      <td>8992</td>\n",
       "      <td>GERENCIA OPERACIONES ECOMMERCE</td>\n",
       "      <td>164119</td>\n",
       "      <td>COORDINADOR FACTURACION Y BOLETEO ECOMME</td>\n",
       "      <td>COFA-ADMINISTRACION CENTRAL</td>\n",
       "      <td>CD</td>\n",
       "    </tr>\n",
       "    <tr>\n",
       "      <th>...</th>\n",
       "      <td>...</td>\n",
       "      <td>...</td>\n",
       "      <td>...</td>\n",
       "      <td>...</td>\n",
       "      <td>...</td>\n",
       "      <td>...</td>\n",
       "      <td>...</td>\n",
       "      <td>...</td>\n",
       "      <td>...</td>\n",
       "      <td>...</td>\n",
       "      <td>...</td>\n",
       "    </tr>\n",
       "    <tr>\n",
       "      <th>171</th>\n",
       "      <td>YMENESES</td>\n",
       "      <td>NaN</td>\n",
       "      <td>NaN</td>\n",
       "      <td>NaN</td>\n",
       "      <td>NaN</td>\n",
       "      <td>NaN</td>\n",
       "      <td>NaN</td>\n",
       "      <td>NaN</td>\n",
       "      <td>NaN</td>\n",
       "      <td>NaN</td>\n",
       "      <td>NaN</td>\n",
       "    </tr>\n",
       "    <tr>\n",
       "      <th>172</th>\n",
       "      <td>RSOTELO</td>\n",
       "      <td>NaN</td>\n",
       "      <td>NaN</td>\n",
       "      <td>NaN</td>\n",
       "      <td>NaN</td>\n",
       "      <td>NaN</td>\n",
       "      <td>NaN</td>\n",
       "      <td>NaN</td>\n",
       "      <td>NaN</td>\n",
       "      <td>NaN</td>\n",
       "      <td>NaN</td>\n",
       "    </tr>\n",
       "    <tr>\n",
       "      <th>173</th>\n",
       "      <td>YMONTERO</td>\n",
       "      <td>NaN</td>\n",
       "      <td>NaN</td>\n",
       "      <td>NaN</td>\n",
       "      <td>NaN</td>\n",
       "      <td>NaN</td>\n",
       "      <td>NaN</td>\n",
       "      <td>NaN</td>\n",
       "      <td>NaN</td>\n",
       "      <td>NaN</td>\n",
       "      <td>NaN</td>\n",
       "    </tr>\n",
       "    <tr>\n",
       "      <th>174</th>\n",
       "      <td>WMOSQUERP</td>\n",
       "      <td>NaN</td>\n",
       "      <td>NaN</td>\n",
       "      <td>NaN</td>\n",
       "      <td>NaN</td>\n",
       "      <td>NaN</td>\n",
       "      <td>NaN</td>\n",
       "      <td>NaN</td>\n",
       "      <td>NaN</td>\n",
       "      <td>NaN</td>\n",
       "      <td>NaN</td>\n",
       "    </tr>\n",
       "    <tr>\n",
       "      <th>175</th>\n",
       "      <td>MMONTOYAA</td>\n",
       "      <td>NaN</td>\n",
       "      <td>NaN</td>\n",
       "      <td>NaN</td>\n",
       "      <td>NaN</td>\n",
       "      <td>NaN</td>\n",
       "      <td>NaN</td>\n",
       "      <td>NaN</td>\n",
       "      <td>NaN</td>\n",
       "      <td>NaN</td>\n",
       "      <td>NaN</td>\n",
       "    </tr>\n",
       "  </tbody>\n",
       "</table>\n",
       "<p>176 rows × 11 columns</p>\n",
       "</div>"
      ],
      "text/plain": [
       "       Usuario       Rut                Usuario.1                     Grupos  \\\n",
       "0     HJIMENEZ   6531778    HECTOR HERNAN JIMENEZ       FALCO ABASTECIMIENTO   \n",
       "1     HEFLORES   9772580       HECTOR IVAN FLORES     FALCO CD ENC DESPACHOS   \n",
       "2    NCESPEDES  16943914  NELSON ALVEIRO CESPEDES      FALCO CLICK & COLLECT   \n",
       "3      DALAYON  35221084      DIANA MIREYA ALAYON        FALCO PM INVENTARIO   \n",
       "4    FGUAMONTE  35393555      FAUDY YOHANA GUASCA  FALCO DVD CONTROL INTERNO   \n",
       "..         ...       ...                      ...                        ...   \n",
       "171   YMENESES       NaN                      NaN                        NaN   \n",
       "172    RSOTELO       NaN                      NaN                        NaN   \n",
       "173   YMONTERO       NaN                      NaN                        NaN   \n",
       "174  WMOSQUERP       NaN                      NaN                        NaN   \n",
       "175  MMONTOYAA       NaN                      NaN                        NaN   \n",
       "\n",
       "                               Sucursal Cod_CCosto  \\\n",
       "0                  FALABELLA - WTC CALI        454   \n",
       "1    FALABELLA - CENTRO DE DISTRIBUCION       1040   \n",
       "2                  FALABELLA - WTC CALI        454   \n",
       "3              FALABELLA-ADMINISTRATIVO        172   \n",
       "4                 FALABELLA - ECOMMERCE       8992   \n",
       "..                                  ...        ...   \n",
       "171                                 NaN        NaN   \n",
       "172                                 NaN        NaN   \n",
       "173                                 NaN        NaN   \n",
       "174                                 NaN        NaN   \n",
       "175                                 NaN        NaN   \n",
       "\n",
       "                                 Centro_Costo Cod_Empleado  \\\n",
       "0                     GCIA GENERAL TIENDA WTC       158585   \n",
       "1                             SALIDA CT LATAM       944440   \n",
       "2                     GCIA GENERAL TIENDA WTC        44385   \n",
       "3    GCIA. SEGURIDAD Y PREVENCION DE PERDIDAS        47066   \n",
       "4              GERENCIA OPERACIONES ECOMMERCE       164119   \n",
       "..                                        ...          ...   \n",
       "171                                       NaN          NaN   \n",
       "172                                       NaN          NaN   \n",
       "173                                       NaN          NaN   \n",
       "174                                       NaN          NaN   \n",
       "175                                       NaN          NaN   \n",
       "\n",
       "                                        Cargo                    Departamento  \\\n",
       "0                 ENCARGADO DE ABASTECIMIENTO  TDA-ABASTECIMIENTO Y LOGISTICA   \n",
       "1                      ENCARGADO DE DESPACHOS                          TDA-CD   \n",
       "2                AUXILIAR LOGISTICA OMNICANAL            TDA-PICK UP IN STORE   \n",
       "3                 PROJECT MANAGER INVENTARIOS     COFA-ADMINISTRACION CENTRAL   \n",
       "4    COORDINADOR FACTURACION Y BOLETEO ECOMME     COFA-ADMINISTRACION CENTRAL   \n",
       "..                                        ...                             ...   \n",
       "171                                       NaN                             NaN   \n",
       "172                                       NaN                             NaN   \n",
       "173                                       NaN                             NaN   \n",
       "174                                       NaN                             NaN   \n",
       "175                                       NaN                             NaN   \n",
       "\n",
       "    local_agg  \n",
       "0      Tienda  \n",
       "1          CD  \n",
       "2      Tienda  \n",
       "3          CD  \n",
       "4          CD  \n",
       "..        ...  \n",
       "171       NaN  \n",
       "172       NaN  \n",
       "173       NaN  \n",
       "174       NaN  \n",
       "175       NaN  \n",
       "\n",
       "[176 rows x 11 columns]"
      ]
     },
     "execution_count": 213,
     "metadata": {},
     "output_type": "execute_result"
    }
   ],
   "source": [
    "usr"
   ]
  },
  {
   "cell_type": "code",
   "execution_count": null,
   "metadata": {},
   "outputs": [],
   "source": [
    "usr_local = usr.loc[usr['local_agg'].notna(),['Usuario','local_agg']].reset_index(drop=True)"
   ]
  },
  {
   "cell_type": "code",
   "execution_count": null,
   "metadata": {},
   "outputs": [],
   "source": [
    "res_usr = res.loc[(res['gco_comment'] == 'Aplica conciliación') & (res['f12_gco_inc_nc'] == 'No tiene NC') & (res['gco_ind_ss'] == 'No tiene SS')]"
   ]
  },
  {
   "cell_type": "code",
   "execution_count": null,
   "metadata": {},
   "outputs": [
    {
     "data": {
      "text/plain": [
       "6829"
      ]
     },
     "execution_count": 257,
     "metadata": {},
     "output_type": "execute_result"
    }
   ],
   "source": [
    "res_usr.shape[0]"
   ]
  },
  {
   "cell_type": "code",
   "execution_count": null,
   "metadata": {},
   "outputs": [],
   "source": [
    "res_local= res_usr.merge(usr_local, how= 'left', left_on = 'f12_username', right_on = 'Usuario')"
   ]
  },
  {
   "cell_type": "code",
   "execution_count": null,
   "metadata": {},
   "outputs": [
    {
     "data": {
      "text/plain": [
       "6829"
      ]
     },
     "execution_count": 259,
     "metadata": {},
     "output_type": "execute_result"
    }
   ],
   "source": [
    "res_local.shape[0]"
   ]
  },
  {
   "cell_type": "code",
   "execution_count": null,
   "metadata": {},
   "outputs": [],
   "source": [
    "res_local.loc[res_local['f12_username'].isna(), 'local_agg' ] = 'Tienda'\n",
    "res_local.loc[res_local['local_agg'].isna(), 'local_agg' ] = 'CD'"
   ]
  },
  {
   "cell_type": "code",
   "execution_count": null,
   "metadata": {},
   "outputs": [],
   "source": [
    "res_local['comentarios_resp_rev'] = np.nan"
   ]
  },
  {
   "cell_type": "code",
   "execution_count": null,
   "metadata": {},
   "outputs": [],
   "source": [
    "res_cd = res_local[res_local['local_agg']== 'CD']\n",
    "res_tienda = res_local[res_local['local_agg']== 'Tienda']\n",
    "res_sistema = res_local[res_local['local_agg']== 'Sistema']"
   ]
  },
  {
   "cell_type": "code",
   "execution_count": null,
   "metadata": {},
   "outputs": [
    {
     "data": {
      "text/plain": [
       "True"
      ]
     },
     "execution_count": 261,
     "metadata": {},
     "output_type": "execute_result"
    }
   ],
   "source": [
    "res_local.shape[0] == res_cd.shape[0] + res_tienda.shape[0] + res_sistema.shape[0]"
   ]
  },
  {
   "cell_type": "code",
   "execution_count": null,
   "metadata": {},
   "outputs": [
    {
     "data": {
      "text/plain": [
       "6829"
      ]
     },
     "execution_count": 260,
     "metadata": {},
     "output_type": "execute_result"
    }
   ],
   "source": [
    "res_local.shape[0]"
   ]
  },
  {
   "cell_type": "code",
   "execution_count": null,
   "metadata": {},
   "outputs": [
    {
     "data": {
      "text/plain": [
       "556"
      ]
     },
     "execution_count": 254,
     "metadata": {},
     "output_type": "execute_result"
    }
   ],
   "source": [
    "res_cd.shape[0]"
   ]
  },
  {
   "cell_type": "code",
   "execution_count": null,
   "metadata": {},
   "outputs": [
    {
     "data": {
      "text/plain": [
       "478"
      ]
     },
     "execution_count": 255,
     "metadata": {},
     "output_type": "execute_result"
    }
   ],
   "source": [
    "res_tienda.shape[0]"
   ]
  },
  {
   "cell_type": "code",
   "execution_count": null,
   "metadata": {},
   "outputs": [
    {
     "data": {
      "text/plain": [
       "5795"
      ]
     },
     "execution_count": 256,
     "metadata": {},
     "output_type": "execute_result"
    }
   ],
   "source": [
    "res_sistema.shape[0]"
   ]
  },
  {
   "cell_type": "code",
   "execution_count": null,
   "metadata": {},
   "outputs": [],
   "source": [
    "res_tienda.to_excel('output/220907_e4_f12_ac_nnc_nnss_tienda.xlsx', index=False)"
   ]
  },
  {
   "cell_type": "code",
   "execution_count": null,
   "metadata": {},
   "outputs": [],
   "source": [
    "res_cd.to_excel('output/220907_e5_f12_ac_nnc_nnss_cd.xlsx', index=False)"
   ]
  },
  {
   "cell_type": "code",
   "execution_count": null,
   "metadata": {},
   "outputs": [],
   "source": [
    "res_sistema.to_excel('output/220907_e6_f12_ac_nnc_nnss_sistemas.xlsx', index=False)"
   ]
  },
  {
   "cell_type": "code",
   "execution_count": null,
   "metadata": {},
   "outputs": [
    {
     "data": {
      "text/plain": [
       "(26, 27)"
      ]
     },
     "execution_count": 131,
     "metadata": {},
     "output_type": "execute_result"
    }
   ],
   "source": [
    "res_local.loc[res_local['local_agg'].isna()].shape"
   ]
  },
  {
   "cell_type": "markdown",
   "metadata": {},
   "source": []
  },
  {
   "cell_type": "code",
   "execution_count": null,
   "metadata": {},
   "outputs": [],
   "source": [
    "res_cat = res.loc[(res['gco_comment'] == 'No aplica conciliación') & (res['f12_gco_inc_nc'] == 'Tiene NC') & (res['gco_ind_ss'] == 'Tiene SS')]"
   ]
  },
  {
   "cell_type": "code",
   "execution_count": null,
   "metadata": {},
   "outputs": [
    {
     "name": "stderr",
     "output_type": "stream",
     "text": [
      "C:\\Users\\maperezr\\AppData\\Local\\Temp\\ipykernel_5128\\1490726110.py:1: SettingWithCopyWarning: \n",
      "A value is trying to be set on a copy of a slice from a DataFrame.\n",
      "Try using .loc[row_indexer,col_indexer] = value instead\n",
      "\n",
      "See the caveats in the documentation: https://pandas.pydata.org/pandas-docs/stable/user_guide/indexing.html#returning-a-view-versus-a-copy\n",
      "  res_cat['comentarios_resp_rev'] = np.nan\n"
     ]
    }
   ],
   "source": [
    "res_cat['comentarios_resp_rev'] = np.nan"
   ]
  },
  {
   "cell_type": "code",
   "execution_count": null,
   "metadata": {},
   "outputs": [],
   "source": [
    "res_cat.to_excel('output/220907_e1_nac_nnc_sss.xlsx', index = False)"
   ]
  },
  {
   "cell_type": "code",
   "execution_count": null,
   "metadata": {},
   "outputs": [
    {
     "data": {
      "text/plain": [
       "2963"
      ]
     },
     "execution_count": 262,
     "metadata": {},
     "output_type": "execute_result"
    }
   ],
   "source": [
    "res_cat.shape[0]"
   ]
  }
 ],
 "metadata": {
  "kernelspec": {
   "display_name": "Python 3.9.12 ('base')",
   "language": "python",
   "name": "python3"
  },
  "language_info": {
   "codemirror_mode": {
    "name": "ipython",
    "version": 3
   },
   "file_extension": ".py",
   "mimetype": "text/x-python",
   "name": "python",
   "nbconvert_exporter": "python",
   "pygments_lexer": "ipython3",
   "version": "3.9.12"
  },
  "orig_nbformat": 4,
  "vscode": {
   "interpreter": {
    "hash": "82a490cbc5ab7ede3fb5f9c339977e226ff85331602536a0bba4d2a51bd464ee"
   }
  }
 },
 "nbformat": 4,
 "nbformat_minor": 2
}
