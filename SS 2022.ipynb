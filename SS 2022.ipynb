{
 "cells": [
  {
   "cell_type": "code",
   "execution_count": 2,
   "metadata": {},
   "outputs": [],
   "source": [
    "import pandas as pd"
   ]
  },
  {
   "cell_type": "code",
   "execution_count": 14,
   "metadata": {},
   "outputs": [],
   "source": [
    "ruta=r\"C:\\Users\\valetorresr\\Downloads\\Base NC y SS.xlsx\"\n",
    "NC=pd.read_excel(ruta,sheet_name='SS')\n",
    "NC2=pd.read_excel(ruta)"
   ]
  },
  {
   "cell_type": "code",
   "execution_count": 25,
   "metadata": {},
   "outputs": [
    {
     "name": "stdout",
     "output_type": "stream",
     "text": [
      "(15, 47)\n"
     ]
    }
   ],
   "source": [
    "NC2=NC2[(NC2[\"COD AUT NC\"]==10009)]\n",
    "\n",
    "NC2=NC2[(NC2[\"ESTADO\"]==\"PROCESADA\")|(NC2[\"ESTADO\"]==\"PROCESADA \")]\n",
    "NC2=NC2[(NC2[\"FECHA TRANSACCION\"]>=\"2022-01-01\")]\n",
    "\n",
    "print(NC2.shape)"
   ]
  },
  {
   "cell_type": "code",
   "execution_count": 26,
   "metadata": {},
   "outputs": [
    {
     "name": "stdout",
     "output_type": "stream",
     "text": [
      "(10035, 47)\n"
     ]
    }
   ],
   "source": [
    "procesados=NC[(NC[\"ESTADO\"]==\"PROCESADA\")|(NC[\"ESTADO\"]==\"PROCESADA \")]\n",
    "procesados=procesados[(procesados[\"FECHA TRANSACCION\"]>=\"2022-01-01\")]\n",
    "#procesados[(procesados['FECHA']>'2022-01-01')]\n",
    "#procesados['FECHA TRANSACCION']\n",
    "print(procesados.shape)"
   ]
  },
  {
   "cell_type": "code",
   "execution_count": 27,
   "metadata": {},
   "outputs": [
    {
     "name": "stdout",
     "output_type": "stream",
     "text": [
      "(10050, 47)\n"
     ]
    }
   ],
   "source": [
    "procesados= pd.concat([NC2, procesados], sort=False)\n",
    "print(procesados.shape)"
   ]
  },
  {
   "cell_type": "code",
   "execution_count": 28,
   "metadata": {},
   "outputs": [],
   "source": [
    "procesados[\"4 DIG TARJETA\"]=procesados[\"4 DIG TARJETA\"].astype(str)"
   ]
  },
  {
   "cell_type": "code",
   "execution_count": 29,
   "metadata": {},
   "outputs": [
    {
     "name": "stdout",
     "output_type": "stream",
     "text": [
      "(10050, 50)\n"
     ]
    }
   ],
   "source": [
    "procesados[\"concat\"] = procesados[\"COD AUT NC\"].astype(str).str.cat(procesados[\"4 DIG TARJETA\"])\n",
    "procesados[\"concat1\"] = procesados[\"SS\"].astype(str).str.cat(procesados[\"concat\"])\n",
    "procesados[\"concat2\"] = procesados[\"MONTO\"].astype(str).str.cat(procesados[\"concat1\"])\n",
    "print(procesados.shape)\n"
   ]
  },
  {
   "cell_type": "code",
   "execution_count": 30,
   "metadata": {},
   "outputs": [
    {
     "name": "stdout",
     "output_type": "stream",
     "text": [
      "(9128, 50)\n"
     ]
    }
   ],
   "source": [
    "sinDupl=procesados.drop_duplicates(\"concat2\")\n",
    "print(sinDupl.shape)"
   ]
  },
  {
   "cell_type": "code",
   "execution_count": 31,
   "metadata": {},
   "outputs": [
    {
     "name": "stdout",
     "output_type": "stream",
     "text": [
      "(0, 50)\n"
     ]
    }
   ],
   "source": [
    "agrup=sinDupl[sinDupl.duplicated(\"concat1\",keep=False)]\n",
    "print(agrup.shape)\n",
    "agrup['MONTO']=agrup['MONTO'].astype(int)"
   ]
  },
  {
   "cell_type": "code",
   "execution_count": 36,
   "metadata": {},
   "outputs": [
    {
     "data": {
      "text/html": [
       "<div>\n",
       "<style scoped>\n",
       "    .dataframe tbody tr th:only-of-type {\n",
       "        vertical-align: middle;\n",
       "    }\n",
       "\n",
       "    .dataframe tbody tr th {\n",
       "        vertical-align: top;\n",
       "    }\n",
       "\n",
       "    .dataframe thead th {\n",
       "        text-align: right;\n",
       "    }\n",
       "</style>\n",
       "<table border=\"1\" class=\"dataframe\">\n",
       "  <thead>\n",
       "    <tr style=\"text-align: right;\">\n",
       "      <th></th>\n",
       "      <th>SS</th>\n",
       "      <th>TIPO DE DEVOLUCION</th>\n",
       "      <th>ESTADO</th>\n",
       "      <th>MONTO</th>\n",
       "      <th>VALOR DE DEVOLUCION</th>\n",
       "    </tr>\n",
       "  </thead>\n",
       "  <tbody>\n",
       "  </tbody>\n",
       "</table>\n",
       "</div>"
      ],
      "text/plain": [
       "Empty DataFrame\n",
       "Columns: [SS, TIPO DE DEVOLUCION, ESTADO, MONTO, VALOR DE DEVOLUCION]\n",
       "Index: []"
      ]
     },
     "execution_count": 36,
     "metadata": {},
     "output_type": "execute_result"
    }
   ],
   "source": [
    "agrup1=agrup.groupby(['SS','TIPO DE DEVOLUCION','ESTADO']).sum()\n",
    "#print(agrup1.shape)\n",
    "agrup12=agrup1[['MONTO','VALOR DE DEVOLUCION']]\n",
    "agrup12.reset_index(inplace=True)\n",
    "agrup12\n"
   ]
  },
  {
   "cell_type": "code",
   "execution_count": 37,
   "metadata": {},
   "outputs": [
    {
     "name": "stdout",
     "output_type": "stream",
     "text": [
      "(9128, 50)\n"
     ]
    }
   ],
   "source": [
    "sinDupl2=sinDupl.drop_duplicates(\"concat1\")\n",
    "print(sinDupl2.shape)"
   ]
  },
  {
   "cell_type": "code",
   "execution_count": 38,
   "metadata": {},
   "outputs": [
    {
     "name": "stdout",
     "output_type": "stream",
     "text": [
      "(9128, 5)\n"
     ]
    }
   ],
   "source": [
    "base=sinDupl2[['SS','TIPO DE DEVOLUCION','ESTADO','MONTO','VALOR DE DEVOLUCION']]\n",
    "print(base.shape)"
   ]
  },
  {
   "cell_type": "code",
   "execution_count": 39,
   "metadata": {},
   "outputs": [
    {
     "name": "stdout",
     "output_type": "stream",
     "text": [
      "(9128, 5)\n"
     ]
    }
   ],
   "source": [
    "FINAL= pd.concat([agrup12, base], sort=False)\n",
    "print(FINAL.shape)"
   ]
  },
  {
   "cell_type": "code",
   "execution_count": null,
   "metadata": {},
   "outputs": [],
   "source": [
    "FINAL.to_excel('BASE_SS_2022.xlsx')"
   ]
  }
 ],
 "metadata": {
  "kernelspec": {
   "display_name": "Python 3.9.13 ('base')",
   "language": "python",
   "name": "python3"
  },
  "language_info": {
   "codemirror_mode": {
    "name": "ipython",
    "version": 3
   },
   "file_extension": ".py",
   "mimetype": "text/x-python",
   "name": "python",
   "nbconvert_exporter": "python",
   "pygments_lexer": "ipython3",
   "version": "3.9.13"
  },
  "orig_nbformat": 4,
  "vscode": {
   "interpreter": {
    "hash": "a321a14e087a510dfc7ae8360530cc28f8eb3988bb6d0baa5cae85ea5f6d0648"
   }
  }
 },
 "nbformat": 4,
 "nbformat_minor": 2
}
