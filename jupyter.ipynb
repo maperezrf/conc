{
 "cells": [
  {
   "cell_type": "code",
   "execution_count": 1,
   "metadata": {},
   "outputs": [],
   "source": [
    "import pandas as pd \n",
    "from conc import CONC\n",
    "from os import listdir\n",
    "from dics import gcons, f12_vars, f3_vars, f11_vars, nc_vars, siebel_vars\n",
    "\n",
    "pd.set_option('display.max_columns', 200)\n",
    "\n",
    "conc = CONC()\n",
    "conc.load_files()\n",
    "conc.transform_files()\n",
    "dfs = conc.get_dfs()"
   ]
  },
  {
   "cell_type": "code",
   "execution_count": 3,
   "metadata": {},
   "outputs": [],
   "source": []
  }
 ],
 "metadata": {
  "kernelspec": {
   "display_name": "Python 3.9.7 ('base')",
   "language": "python",
   "name": "python3"
  },
  "language_info": {
   "codemirror_mode": {
    "name": "ipython",
    "version": 3
   },
   "file_extension": ".py",
   "mimetype": "text/x-python",
   "name": "python",
   "nbconvert_exporter": "python",
   "pygments_lexer": "ipython3",
   "version": "3.9.7"
  },
  "orig_nbformat": 4,
  "vscode": {
   "interpreter": {
    "hash": "c6f5c3011152d28a15c7ba6d87ec6cf46d66a09689e816975ac209d8fff831f0"
   }
  }
 },
 "nbformat": 4,
 "nbformat_minor": 2
}
