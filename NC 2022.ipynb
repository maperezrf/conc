{
 "cells": [
  {
   "cell_type": "code",
   "execution_count": 2,
   "metadata": {},
   "outputs": [],
   "source": [
    "import pandas as pd"
   ]
  },
  {
   "cell_type": "code",
   "execution_count": 3,
   "metadata": {},
   "outputs": [],
   "source": [
    "ruta=r\"C:\\Users\\valetorresr\\Downloads\\Base NC y SS.xlsx\"\n",
    "NC=pd.read_excel(ruta)"
   ]
  },
  {
   "cell_type": "code",
   "execution_count": 4,
   "metadata": {},
   "outputs": [
    {
     "name": "stdout",
     "output_type": "stream",
     "text": [
      "<class 'pandas.core.frame.DataFrame'>\n",
      "RangeIndex: 79223 entries, 0 to 79222\n",
      "Data columns (total 47 columns):\n",
      " #   Column                      Non-Null Count  Dtype         \n",
      "---  ------                      --------------  -----         \n",
      " 0   BASE                        79223 non-null  object        \n",
      " 1   SS                          79223 non-null  object        \n",
      " 2   CC                          79223 non-null  object        \n",
      " 3   OC                          79223 non-null  object        \n",
      " 4   F12                         79223 non-null  object        \n",
      " 5   RED                         79223 non-null  object        \n",
      " 6   4 DIG TARJETA               79223 non-null  object        \n",
      " 7   FECHA TRANSACCION           79180 non-null  datetime64[ns]\n",
      " 8   COD AUTORIZACION            79223 non-null  object        \n",
      " 9   VALOR ORIGINAL DE COMPRA    79222 non-null  object        \n",
      " 10  TIPO DE DEVOLUCION          79223 non-null  object        \n",
      " 11  VALOR NUEVA COMPRA          79222 non-null  float64       \n",
      " 12  VALOR DE DEVOLUCION         79223 non-null  float64       \n",
      " 13  FECHA DE INGRESO TESOR.     79223 non-null  object        \n",
      " 14  FECHA ENVIO A RED           79223 non-null  datetime64[ns]\n",
      " 15  ESTADO                      79223 non-null  object        \n",
      " 16  FECHA APROBACION DE LA RED  78099 non-null  datetime64[ns]\n",
      " 17  TIPOLOGIA DE RECHAZO        79223 non-null  object        \n",
      " 18  MOTIVO DE RECHAZO           79223 non-null  object        \n",
      " 19  OBSERVACION RECHAZO         79221 non-null  object        \n",
      " 20  AREA DE RECHAZO             79223 non-null  object        \n",
      " 21  DIRIGIDO A                  79223 non-null  object        \n",
      " 22  LIQUIDACION                 79223 non-null  object        \n",
      " 23  FECHA LIQUIDACION           74574 non-null  object        \n",
      " 24  N° BASE                     79223 non-null  object        \n",
      " 25  BASE2                       79223 non-null  object        \n",
      " 26  COD AUT NC                  79223 non-null  object        \n",
      " 27  ID Registro                 79222 non-null  object        \n",
      " 28  FECHA                       79222 non-null  object        \n",
      " 29  POS                         79220 non-null  object        \n",
      " 30  SECUENCIA                   79221 non-null  object        \n",
      " 31  TIENDA                      79223 non-null  object        \n",
      " 32  MONTO                       79223 non-null  object        \n",
      " 33  ESTADO F12                  79223 non-null  object        \n",
      " 34  UBICACIÓN                   79223 non-null  object        \n",
      " 35  MEDIO DE PAGO               79223 non-null  object        \n",
      " 36  MONTO TOTAL                 79223 non-null  object        \n",
      " 37  MOTIVO                      79223 non-null  object        \n",
      " 38  EMAIL                       78919 non-null  object        \n",
      " 39  SKUS o F12                  79223 non-null  object        \n",
      " 40  EAN                         79223 non-null  object        \n",
      " 41  UND                         79223 non-null  object        \n",
      " 42  Area                        79223 non-null  object        \n",
      " 43  Aplica Cambio estado CMP    79223 non-null  int64         \n",
      " 44  Dias Estimada de Rta        79223 non-null  object        \n",
      " 45  Dias de Liquidacion         79223 non-null  int64         \n",
      " 46  LOCAL                       0 non-null      float64       \n",
      "dtypes: datetime64[ns](3), float64(3), int64(2), object(39)\n",
      "memory usage: 28.4+ MB\n"
     ]
    }
   ],
   "source": [
    "NC.info()"
   ]
  },
  {
   "cell_type": "code",
   "execution_count": 5,
   "metadata": {},
   "outputs": [],
   "source": [
    "procesados=NC[(NC[\"ESTADO\"]==\"PROCESADA\")|(NC[\"ESTADO\"]==\"PROCESADA \")]\n",
    "procesados=procesados[(procesados[\"FECHA TRANSACCION\"]>=\"2022-01-01\")]\n",
    "#procesados[(procesados['FECHA']>'2022-01-01')]\n",
    "#procesados['FECHA TRANSACCION']"
   ]
  },
  {
   "cell_type": "code",
   "execution_count": 8,
   "metadata": {},
   "outputs": [
    {
     "name": "stdout",
     "output_type": "stream",
     "text": [
      "(60843, 50)\n"
     ]
    }
   ],
   "source": [
    "procesados[\"concat\"] = procesados[\"COD AUT NC\"].astype(str).str.cat(procesados[\"4 DIG TARJETA\"])\n",
    "procesados[\"concat1\"] = procesados[\"COD AUTORIZACION\"].astype(str).str.cat(procesados[\"concat\"])\n",
    "procesados[\"concat2\"] = procesados[\"MONTO\"].astype(str).str.cat(procesados[\"concat1\"])\n",
    "print(procesados.shape)"
   ]
  },
  {
   "cell_type": "code",
   "execution_count": 9,
   "metadata": {},
   "outputs": [
    {
     "name": "stdout",
     "output_type": "stream",
     "text": [
      "(60841, 50)\n"
     ]
    }
   ],
   "source": [
    "sinDupl=procesados.drop_duplicates(\"concat2\")\n",
    "print(sinDupl.shape)"
   ]
  },
  {
   "cell_type": "code",
   "execution_count": 10,
   "metadata": {},
   "outputs": [
    {
     "name": "stdout",
     "output_type": "stream",
     "text": [
      "(4, 50)\n"
     ]
    },
    {
     "name": "stderr",
     "output_type": "stream",
     "text": [
      "C:\\Users\\valetorresr\\AppData\\Local\\Temp\\ipykernel_27352\\1603550620.py:3: SettingWithCopyWarning: \n",
      "A value is trying to be set on a copy of a slice from a DataFrame.\n",
      "Try using .loc[row_indexer,col_indexer] = value instead\n",
      "\n",
      "See the caveats in the documentation: https://pandas.pydata.org/pandas-docs/stable/user_guide/indexing.html#returning-a-view-versus-a-copy\n",
      "  agrup['MONTO']=agrup['MONTO'].astype(int)\n"
     ]
    }
   ],
   "source": [
    "agrup=sinDupl[sinDupl.duplicated(\"concat1\",keep=False)]\n",
    "print(agrup.shape)\n",
    "agrup['MONTO']=agrup['MONTO'].astype(int)"
   ]
  },
  {
   "cell_type": "code",
   "execution_count": 11,
   "metadata": {},
   "outputs": [
    {
     "data": {
      "text/html": [
       "<div>\n",
       "<style scoped>\n",
       "    .dataframe tbody tr th:only-of-type {\n",
       "        vertical-align: middle;\n",
       "    }\n",
       "\n",
       "    .dataframe tbody tr th {\n",
       "        vertical-align: top;\n",
       "    }\n",
       "\n",
       "    .dataframe thead th {\n",
       "        text-align: right;\n",
       "    }\n",
       "</style>\n",
       "<table border=\"1\" class=\"dataframe\">\n",
       "  <thead>\n",
       "    <tr style=\"text-align: right;\">\n",
       "      <th></th>\n",
       "      <th>COD AUT NC</th>\n",
       "      <th>SS</th>\n",
       "      <th>TIPO DE DEVOLUCION</th>\n",
       "      <th>ESTADO</th>\n",
       "      <th>MONTO</th>\n",
       "      <th>VALOR DE DEVOLUCION</th>\n",
       "    </tr>\n",
       "  </thead>\n",
       "  <tbody>\n",
       "    <tr>\n",
       "      <th>0</th>\n",
       "      <td>1078734736</td>\n",
       "      <td>1-126507950959</td>\n",
       "      <td>PARCIAL</td>\n",
       "      <td>PROCESADA</td>\n",
       "      <td>29900</td>\n",
       "      <td>29900.0</td>\n",
       "    </tr>\n",
       "    <tr>\n",
       "      <th>1</th>\n",
       "      <td>1078734736</td>\n",
       "      <td>1-126507950959</td>\n",
       "      <td>TOTAL</td>\n",
       "      <td>PROCESADA</td>\n",
       "      <td>89700</td>\n",
       "      <td>89700.0</td>\n",
       "    </tr>\n",
       "    <tr>\n",
       "      <th>2</th>\n",
       "      <td>1081562104</td>\n",
       "      <td>1-133110816274</td>\n",
       "      <td>PARCIAL</td>\n",
       "      <td>PROCESADA</td>\n",
       "      <td>5548500</td>\n",
       "      <td>5548500.0</td>\n",
       "    </tr>\n",
       "    <tr>\n",
       "      <th>3</th>\n",
       "      <td>1081562104</td>\n",
       "      <td>1-133331456673</td>\n",
       "      <td>TOTAL</td>\n",
       "      <td>PROCESADA</td>\n",
       "      <td>5548501</td>\n",
       "      <td>5548501.0</td>\n",
       "    </tr>\n",
       "  </tbody>\n",
       "</table>\n",
       "</div>"
      ],
      "text/plain": [
       "   COD AUT NC              SS TIPO DE DEVOLUCION     ESTADO    MONTO  \\\n",
       "0  1078734736  1-126507950959           PARCIAL   PROCESADA    29900   \n",
       "1  1078734736  1-126507950959              TOTAL  PROCESADA    89700   \n",
       "2  1081562104  1-133110816274            PARCIAL  PROCESADA  5548500   \n",
       "3  1081562104  1-133331456673              TOTAL  PROCESADA  5548501   \n",
       "\n",
       "   VALOR DE DEVOLUCION  \n",
       "0              29900.0  \n",
       "1              89700.0  \n",
       "2            5548500.0  \n",
       "3            5548501.0  "
      ]
     },
     "execution_count": 11,
     "metadata": {},
     "output_type": "execute_result"
    }
   ],
   "source": [
    "agrup1=agrup.groupby(['COD AUT NC','SS','TIPO DE DEVOLUCION','ESTADO']).sum()\n",
    "#print(agrup1.shape)\n",
    "agrup12=agrup1[['MONTO','VALOR DE DEVOLUCION']]\n",
    "agrup12.reset_index(inplace=True)\n",
    "agrup12\n"
   ]
  },
  {
   "cell_type": "code",
   "execution_count": 12,
   "metadata": {},
   "outputs": [
    {
     "name": "stdout",
     "output_type": "stream",
     "text": [
      "(60839, 50)\n"
     ]
    }
   ],
   "source": [
    "sinDupl2=sinDupl.drop_duplicates(\"concat1\")\n",
    "print(sinDupl2.shape)"
   ]
  },
  {
   "cell_type": "code",
   "execution_count": 13,
   "metadata": {},
   "outputs": [
    {
     "name": "stdout",
     "output_type": "stream",
     "text": [
      "(60839, 6)\n"
     ]
    }
   ],
   "source": [
    "base=sinDupl2[['COD AUT NC', 'SS','TIPO DE DEVOLUCION','ESTADO','MONTO','VALOR DE DEVOLUCION']]\n",
    "print(base.shape)"
   ]
  },
  {
   "cell_type": "code",
   "execution_count": 14,
   "metadata": {},
   "outputs": [
    {
     "name": "stdout",
     "output_type": "stream",
     "text": [
      "(60843, 6)\n"
     ]
    }
   ],
   "source": [
    "FINAL= pd.concat([agrup12, base], sort=False)\n",
    "print(FINAL.shape)"
   ]
  },
  {
   "cell_type": "code",
   "execution_count": 15,
   "metadata": {},
   "outputs": [],
   "source": [
    "FINAL.to_excel('BASE_NC_2022.xlsx')"
   ]
  },
  {
   "cell_type": "code",
   "execution_count": null,
   "metadata": {},
   "outputs": [],
   "source": []
  }
 ],
 "metadata": {
  "kernelspec": {
   "display_name": "Python 3.9.13 ('base')",
   "language": "python",
   "name": "python3"
  },
  "language_info": {
   "codemirror_mode": {
    "name": "ipython",
    "version": 3
   },
   "file_extension": ".py",
   "mimetype": "text/x-python",
   "name": "python",
   "nbconvert_exporter": "python",
   "pygments_lexer": "ipython3",
   "version": "3.9.13"
  },
  "orig_nbformat": 4,
  "vscode": {
   "interpreter": {
    "hash": "a321a14e087a510dfc7ae8360530cc28f8eb3988bb6d0baa5cae85ea5f6d0648"
   }
  }
 },
 "nbformat": 4,
 "nbformat_minor": 2
}
