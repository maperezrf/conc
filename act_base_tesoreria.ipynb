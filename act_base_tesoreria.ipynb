{
 "cells": [
  {
   "cell_type": "code",
   "execution_count": 129,
   "metadata": {},
   "outputs": [],
   "source": [
    "import pandas as pd\n",
    "pd.options.display.max_columns = 500"
   ]
  },
  {
   "cell_type": "code",
   "execution_count": 130,
   "metadata": {},
   "outputs": [],
   "source": [
    "nc = pd.read_excel('input/Base NC y SS.xlsx', sheet_name= 'NC', dtype = str)"
   ]
  },
  {
   "cell_type": "code",
   "execution_count": 144,
   "metadata": {},
   "outputs": [
    {
     "data": {
      "text/html": [
       "<div>\n",
       "<style scoped>\n",
       "    .dataframe tbody tr th:only-of-type {\n",
       "        vertical-align: middle;\n",
       "    }\n",
       "\n",
       "    .dataframe tbody tr th {\n",
       "        vertical-align: top;\n",
       "    }\n",
       "\n",
       "    .dataframe thead th {\n",
       "        text-align: right;\n",
       "    }\n",
       "</style>\n",
       "<table border=\"1\" class=\"dataframe\">\n",
       "  <thead>\n",
       "    <tr style=\"text-align: right;\">\n",
       "      <th></th>\n",
       "      <th>BASE</th>\n",
       "      <th>SS</th>\n",
       "      <th>CC</th>\n",
       "      <th>OC</th>\n",
       "      <th>F12</th>\n",
       "      <th>RED</th>\n",
       "      <th>4 DIG TARJETA</th>\n",
       "      <th>FECHA TRANSACCION</th>\n",
       "      <th>COD AUTORIZACION</th>\n",
       "      <th>VALOR ORIGINAL DE COMPRA</th>\n",
       "      <th>TIPO DE DEVOLUCION</th>\n",
       "      <th>VALOR NUEVA COMPRA</th>\n",
       "      <th>VALOR DE DEVOLUCION</th>\n",
       "      <th>FECHA DE INGRESO TESOR.</th>\n",
       "      <th>FECHA ENVIO A RED</th>\n",
       "      <th>ESTADO</th>\n",
       "      <th>FECHA APROBACION DE LA RED</th>\n",
       "      <th>TIPOLOGIA DE RECHAZO</th>\n",
       "      <th>MOTIVO DE RECHAZO</th>\n",
       "      <th>OBSERVACION RECHAZO</th>\n",
       "      <th>AREA DE RECHAZO</th>\n",
       "      <th>DIRIGIDO A</th>\n",
       "      <th>LIQUIDACION</th>\n",
       "      <th>FECHA LIQUIDACION</th>\n",
       "      <th>N° BASE</th>\n",
       "      <th>BASE2</th>\n",
       "      <th>COD AUT NC</th>\n",
       "      <th>ID Registro</th>\n",
       "      <th>FECHA</th>\n",
       "      <th>POS</th>\n",
       "      <th>SECUENCIA</th>\n",
       "      <th>TIENDA</th>\n",
       "      <th>MONTO</th>\n",
       "      <th>ESTADO F12</th>\n",
       "      <th>UBICACIÓN</th>\n",
       "      <th>MEDIO DE PAGO</th>\n",
       "      <th>MONTO TOTAL</th>\n",
       "      <th>MOTIVO</th>\n",
       "      <th>EMAIL</th>\n",
       "      <th>SKUS o F12</th>\n",
       "      <th>EAN</th>\n",
       "      <th>UND</th>\n",
       "      <th>Area</th>\n",
       "      <th>Aplica Cambio estado CMP</th>\n",
       "      <th>Dias Estimada de Rta</th>\n",
       "      <th>Dias de Liquidacion</th>\n",
       "      <th>LOCAL</th>\n",
       "    </tr>\n",
       "  </thead>\n",
       "  <tbody>\n",
       "    <tr>\n",
       "      <th>78975</th>\n",
       "      <td>CMR UNO A UNO REPROCESOS CONCILIACION 27072022...</td>\n",
       "      <td>1-126465263797</td>\n",
       "      <td>79739596</td>\n",
       "      <td>LINK DE PAGO</td>\n",
       "      <td>12691321715</td>\n",
       "      <td>CMR</td>\n",
       "      <td>3148</td>\n",
       "      <td>2022-05-27 00:00:00</td>\n",
       "      <td>081815</td>\n",
       "      <td>835900</td>\n",
       "      <td>TOTAL</td>\n",
       "      <td>0</td>\n",
       "      <td>835900</td>\n",
       "      <td>2022-07-27 00:00:00</td>\n",
       "      <td>2022-07-28 00:00:00</td>\n",
       "      <td>PROCESADA</td>\n",
       "      <td>2022-08-02 00:00:00</td>\n",
       "      <td>0</td>\n",
       "      <td>0</td>\n",
       "      <td>0</td>\n",
       "      <td>0</td>\n",
       "      <td>CMR</td>\n",
       "      <td>PROCESADA LIQUID</td>\n",
       "      <td>2022-08-03 00:00:00</td>\n",
       "      <td>37639</td>\n",
       "      <td>CMR UNO A UNO REPROCESOS CONCILIACION 27072022...</td>\n",
       "      <td>081815</td>\n",
       "      <td>485145738</td>\n",
       "      <td>2022-06-10 00:00:00</td>\n",
       "      <td>62</td>\n",
       "      <td>2929</td>\n",
       "      <td>3000</td>\n",
       "      <td>835900</td>\n",
       "      <td>ANULADO X NCDR</td>\n",
       "      <td>0</td>\n",
       "      <td>CMR</td>\n",
       "      <td>835900</td>\n",
       "      <td>INCUMPLIMIENTO</td>\n",
       "      <td>anguloruben@hotmail.com</td>\n",
       "      <td>12691321715</td>\n",
       "      <td>0</td>\n",
       "      <td>0</td>\n",
       "      <td>Uno a uno</td>\n",
       "      <td>0</td>\n",
       "      <td>-1</td>\n",
       "      <td>0</td>\n",
       "      <td>NaN</td>\n",
       "    </tr>\n",
       "  </tbody>\n",
       "</table>\n",
       "</div>"
      ],
      "text/plain": [
       "                                                    BASE              SS  \\\n",
       "78975  CMR UNO A UNO REPROCESOS CONCILIACION 27072022...  1-126465263797   \n",
       "\n",
       "             CC            OC          F12  RED 4 DIG TARJETA  \\\n",
       "78975  79739596  LINK DE PAGO  12691321715  CMR          3148   \n",
       "\n",
       "         FECHA TRANSACCION COD AUTORIZACION VALOR ORIGINAL DE COMPRA  \\\n",
       "78975  2022-05-27 00:00:00           081815                   835900   \n",
       "\n",
       "      TIPO DE DEVOLUCION VALOR NUEVA COMPRA  VALOR DE DEVOLUCION  \\\n",
       "78975              TOTAL                  0               835900   \n",
       "\n",
       "      FECHA DE INGRESO TESOR.    FECHA ENVIO A RED     ESTADO  \\\n",
       "78975     2022-07-27 00:00:00  2022-07-28 00:00:00  PROCESADA   \n",
       "\n",
       "      FECHA APROBACION DE LA RED TIPOLOGIA DE RECHAZO MOTIVO DE RECHAZO  \\\n",
       "78975        2022-08-02 00:00:00                    0                 0   \n",
       "\n",
       "      OBSERVACION RECHAZO AREA DE RECHAZO DIRIGIDO A       LIQUIDACION  \\\n",
       "78975                   0               0       CMR   PROCESADA LIQUID   \n",
       "\n",
       "         FECHA LIQUIDACION N° BASE  \\\n",
       "78975  2022-08-03 00:00:00   37639   \n",
       "\n",
       "                                                   BASE2 COD AUT NC  \\\n",
       "78975  CMR UNO A UNO REPROCESOS CONCILIACION 27072022...     081815   \n",
       "\n",
       "      ID Registro                FECHA POS SECUENCIA TIENDA   MONTO  \\\n",
       "78975   485145738  2022-06-10 00:00:00  62      2929   3000  835900   \n",
       "\n",
       "           ESTADO F12 UBICACIÓN MEDIO DE PAGO MONTO TOTAL          MOTIVO  \\\n",
       "78975  ANULADO X NCDR         0          CMR       835900  INCUMPLIMIENTO   \n",
       "\n",
       "                         EMAIL   SKUS o F12 EAN UND       Area  \\\n",
       "78975  anguloruben@hotmail.com  12691321715   0   0  Uno a uno   \n",
       "\n",
       "      Aplica Cambio estado CMP Dias Estimada de Rta Dias de Liquidacion LOCAL  \n",
       "78975                        0                   -1                   0   NaN  "
      ]
     },
     "execution_count": 144,
     "metadata": {},
     "output_type": "execute_result"
    }
   ],
   "source": [
    "nc.loc[nc['COD AUT NC'] == '081815']"
   ]
  },
  {
   "cell_type": "code",
   "execution_count": 145,
   "metadata": {},
   "outputs": [],
   "source": [
    "nc['COD AUT NC'] = nc['COD AUT NC'].str.strip()"
   ]
  },
  {
   "cell_type": "code",
   "execution_count": 146,
   "metadata": {},
   "outputs": [
    {
     "ename": "AttributeError",
     "evalue": "Can only use .str accessor with string values!",
     "output_type": "error",
     "traceback": [
      "\u001b[1;31m---------------------------------------------------------------------------\u001b[0m",
      "\u001b[1;31mAttributeError\u001b[0m                            Traceback (most recent call last)",
      "\u001b[1;32mUntitled-1.ipynb Celda 5\u001b[0m in \u001b[0;36m<cell line: 1>\u001b[1;34m()\u001b[0m\n\u001b[1;32m----> <a href='vscode-notebook-cell:Untitled-1.ipynb?jupyter-notebook#Y164sdW50aXRsZWQ%3D?line=0'>1</a>\u001b[0m nc[\u001b[39m'\u001b[39m\u001b[39mVALOR DE DEVOLUCION\u001b[39m\u001b[39m'\u001b[39m] \u001b[39m=\u001b[39m nc[\u001b[39m'\u001b[39;49m\u001b[39mVALOR DE DEVOLUCION\u001b[39;49m\u001b[39m'\u001b[39;49m]\u001b[39m.\u001b[39;49mstr\u001b[39m.\u001b[39mreplace(\u001b[39m'\u001b[39m\u001b[39m36286.5\u001b[39m\u001b[39m'\u001b[39m, \u001b[39m'\u001b[39m\u001b[39m36286\u001b[39m\u001b[39m'\u001b[39m)\n",
      "File \u001b[1;32mc:\\Users\\maperezr\\Anaconda3\\lib\\site-packages\\pandas\\core\\generic.py:5575\u001b[0m, in \u001b[0;36mNDFrame.__getattr__\u001b[1;34m(self, name)\u001b[0m\n\u001b[0;32m   5568\u001b[0m \u001b[39mif\u001b[39;00m (\n\u001b[0;32m   5569\u001b[0m     name \u001b[39mnot\u001b[39;00m \u001b[39min\u001b[39;00m \u001b[39mself\u001b[39m\u001b[39m.\u001b[39m_internal_names_set\n\u001b[0;32m   5570\u001b[0m     \u001b[39mand\u001b[39;00m name \u001b[39mnot\u001b[39;00m \u001b[39min\u001b[39;00m \u001b[39mself\u001b[39m\u001b[39m.\u001b[39m_metadata\n\u001b[0;32m   5571\u001b[0m     \u001b[39mand\u001b[39;00m name \u001b[39mnot\u001b[39;00m \u001b[39min\u001b[39;00m \u001b[39mself\u001b[39m\u001b[39m.\u001b[39m_accessors\n\u001b[0;32m   5572\u001b[0m     \u001b[39mand\u001b[39;00m \u001b[39mself\u001b[39m\u001b[39m.\u001b[39m_info_axis\u001b[39m.\u001b[39m_can_hold_identifiers_and_holds_name(name)\n\u001b[0;32m   5573\u001b[0m ):\n\u001b[0;32m   5574\u001b[0m     \u001b[39mreturn\u001b[39;00m \u001b[39mself\u001b[39m[name]\n\u001b[1;32m-> 5575\u001b[0m \u001b[39mreturn\u001b[39;00m \u001b[39mobject\u001b[39;49m\u001b[39m.\u001b[39;49m\u001b[39m__getattribute__\u001b[39;49m(\u001b[39mself\u001b[39;49m, name)\n",
      "File \u001b[1;32mc:\\Users\\maperezr\\Anaconda3\\lib\\site-packages\\pandas\\core\\accessor.py:182\u001b[0m, in \u001b[0;36mCachedAccessor.__get__\u001b[1;34m(self, obj, cls)\u001b[0m\n\u001b[0;32m    179\u001b[0m \u001b[39mif\u001b[39;00m obj \u001b[39mis\u001b[39;00m \u001b[39mNone\u001b[39;00m:\n\u001b[0;32m    180\u001b[0m     \u001b[39m# we're accessing the attribute of the class, i.e., Dataset.geo\u001b[39;00m\n\u001b[0;32m    181\u001b[0m     \u001b[39mreturn\u001b[39;00m \u001b[39mself\u001b[39m\u001b[39m.\u001b[39m_accessor\n\u001b[1;32m--> 182\u001b[0m accessor_obj \u001b[39m=\u001b[39m \u001b[39mself\u001b[39;49m\u001b[39m.\u001b[39;49m_accessor(obj)\n\u001b[0;32m    183\u001b[0m \u001b[39m# Replace the property with the accessor object. Inspired by:\u001b[39;00m\n\u001b[0;32m    184\u001b[0m \u001b[39m# https://www.pydanny.com/cached-property.html\u001b[39;00m\n\u001b[0;32m    185\u001b[0m \u001b[39m# We need to use object.__setattr__ because we overwrite __setattr__ on\u001b[39;00m\n\u001b[0;32m    186\u001b[0m \u001b[39m# NDFrame\u001b[39;00m\n\u001b[0;32m    187\u001b[0m \u001b[39mobject\u001b[39m\u001b[39m.\u001b[39m\u001b[39m__setattr__\u001b[39m(obj, \u001b[39mself\u001b[39m\u001b[39m.\u001b[39m_name, accessor_obj)\n",
      "File \u001b[1;32mc:\\Users\\maperezr\\Anaconda3\\lib\\site-packages\\pandas\\core\\strings\\accessor.py:177\u001b[0m, in \u001b[0;36mStringMethods.__init__\u001b[1;34m(self, data)\u001b[0m\n\u001b[0;32m    174\u001b[0m \u001b[39mdef\u001b[39;00m \u001b[39m__init__\u001b[39m(\u001b[39mself\u001b[39m, data):\n\u001b[0;32m    175\u001b[0m     \u001b[39mfrom\u001b[39;00m \u001b[39mpandas\u001b[39;00m\u001b[39m.\u001b[39;00m\u001b[39mcore\u001b[39;00m\u001b[39m.\u001b[39;00m\u001b[39marrays\u001b[39;00m\u001b[39m.\u001b[39;00m\u001b[39mstring_\u001b[39;00m \u001b[39mimport\u001b[39;00m StringDtype\n\u001b[1;32m--> 177\u001b[0m     \u001b[39mself\u001b[39m\u001b[39m.\u001b[39m_inferred_dtype \u001b[39m=\u001b[39m \u001b[39mself\u001b[39;49m\u001b[39m.\u001b[39;49m_validate(data)\n\u001b[0;32m    178\u001b[0m     \u001b[39mself\u001b[39m\u001b[39m.\u001b[39m_is_categorical \u001b[39m=\u001b[39m is_categorical_dtype(data\u001b[39m.\u001b[39mdtype)\n\u001b[0;32m    179\u001b[0m     \u001b[39mself\u001b[39m\u001b[39m.\u001b[39m_is_string \u001b[39m=\u001b[39m \u001b[39misinstance\u001b[39m(data\u001b[39m.\u001b[39mdtype, StringDtype)\n",
      "File \u001b[1;32mc:\\Users\\maperezr\\Anaconda3\\lib\\site-packages\\pandas\\core\\strings\\accessor.py:231\u001b[0m, in \u001b[0;36mStringMethods._validate\u001b[1;34m(data)\u001b[0m\n\u001b[0;32m    228\u001b[0m inferred_dtype \u001b[39m=\u001b[39m lib\u001b[39m.\u001b[39minfer_dtype(values, skipna\u001b[39m=\u001b[39m\u001b[39mTrue\u001b[39;00m)\n\u001b[0;32m    230\u001b[0m \u001b[39mif\u001b[39;00m inferred_dtype \u001b[39mnot\u001b[39;00m \u001b[39min\u001b[39;00m allowed_types:\n\u001b[1;32m--> 231\u001b[0m     \u001b[39mraise\u001b[39;00m \u001b[39mAttributeError\u001b[39;00m(\u001b[39m\"\u001b[39m\u001b[39mCan only use .str accessor with string values!\u001b[39m\u001b[39m\"\u001b[39m)\n\u001b[0;32m    232\u001b[0m \u001b[39mreturn\u001b[39;00m inferred_dtype\n",
      "\u001b[1;31mAttributeError\u001b[0m: Can only use .str accessor with string values!"
     ]
    }
   ],
   "source": [
    "nc['VALOR DE DEVOLUCION'] = nc['VALOR DE DEVOLUCION'].str.replace('36286.5', '36286')"
   ]
  },
  {
   "cell_type": "code",
   "execution_count": 147,
   "metadata": {},
   "outputs": [],
   "source": [
    "nc['VALOR DE DEVOLUCION'] = nc['VALOR DE DEVOLUCION'].astype(int)"
   ]
  },
  {
   "cell_type": "code",
   "execution_count": 148,
   "metadata": {},
   "outputs": [],
   "source": [
    "nc_proc_cm = nc.loc[(nc['ESTADO'] == 'PROCESADA') & (nc['COD AUT NC'] == '10009')]"
   ]
  },
  {
   "cell_type": "code",
   "execution_count": 149,
   "metadata": {},
   "outputs": [
    {
     "name": "stderr",
     "output_type": "stream",
     "text": [
      "C:\\Users\\maperezr\\AppData\\Local\\Temp\\ipykernel_30852\\516989417.py:1: SettingWithCopyWarning: \n",
      "A value is trying to be set on a copy of a slice from a DataFrame\n",
      "\n",
      "See the caveats in the documentation: https://pandas.pydata.org/pandas-docs/stable/user_guide/indexing.html#returning-a-view-versus-a-copy\n",
      "  nc_proc_cm.drop_duplicates('SS', inplace=True)\n"
     ]
    }
   ],
   "source": [
    "nc_proc_cm.drop_duplicates('SS', inplace=True)"
   ]
  },
  {
   "cell_type": "code",
   "execution_count": 150,
   "metadata": {},
   "outputs": [],
   "source": [
    "nc_proc_cm = nc_proc_cm[['SS', 'COD AUTORIZACION', 'MONTO TOTAL', '4 DIG TARJETA']]"
   ]
  },
  {
   "cell_type": "code",
   "execution_count": 151,
   "metadata": {},
   "outputs": [],
   "source": [
    "nc_proc = nc.loc[(nc['ESTADO'] == 'PROCESADA') & (nc['COD AUT NC'] != '10009')]"
   ]
  },
  {
   "cell_type": "code",
   "execution_count": 152,
   "metadata": {},
   "outputs": [
    {
     "name": "stderr",
     "output_type": "stream",
     "text": [
      "C:\\Users\\maperezr\\AppData\\Local\\Temp\\ipykernel_30852\\2249370976.py:1: SettingWithCopyWarning: \n",
      "A value is trying to be set on a copy of a slice from a DataFrame\n",
      "\n",
      "See the caveats in the documentation: https://pandas.pydata.org/pandas-docs/stable/user_guide/indexing.html#returning-a-view-versus-a-copy\n",
      "  nc_proc.drop_duplicates(['COD AUT NC', 'COD AUTORIZACION', 'MONTO TOTAL', '4 DIG TARJETA'], inplace = True)\n"
     ]
    }
   ],
   "source": [
    "nc_proc.drop_duplicates(['COD AUT NC', 'COD AUTORIZACION', 'MONTO TOTAL', '4 DIG TARJETA'], inplace = True)"
   ]
  },
  {
   "cell_type": "code",
   "execution_count": 153,
   "metadata": {},
   "outputs": [],
   "source": [
    "nc_gb_proc = nc_proc.groupby(['COD AUT NC','ESTADO'])['VALOR DE DEVOLUCION'].sum().reset_index()"
   ]
  },
  {
   "cell_type": "code",
   "execution_count": 154,
   "metadata": {},
   "outputs": [],
   "source": [
    "caut_nc = nc_proc.groupby(['COD AUT NC','ESTADO'])['VALOR DE DEVOLUCION'].sum().reset_index()['COD AUT NC']"
   ]
  },
  {
   "cell_type": "markdown",
   "metadata": {},
   "source": [
    "NO PROCESADAS"
   ]
  },
  {
   "cell_type": "code",
   "execution_count": 155,
   "metadata": {},
   "outputs": [],
   "source": [
    "nc_no_proc = nc.loc[(nc['ESTADO'] != 'PROCESADA') & (nc['COD AUT NC'] != '10009') ]"
   ]
  },
  {
   "cell_type": "code",
   "execution_count": 156,
   "metadata": {},
   "outputs": [
    {
     "name": "stderr",
     "output_type": "stream",
     "text": [
      "C:\\Users\\maperezr\\AppData\\Local\\Temp\\ipykernel_30852\\3352299271.py:1: SettingWithCopyWarning: \n",
      "A value is trying to be set on a copy of a slice from a DataFrame\n",
      "\n",
      "See the caveats in the documentation: https://pandas.pydata.org/pandas-docs/stable/user_guide/indexing.html#returning-a-view-versus-a-copy\n",
      "  nc_no_proc.drop_duplicates('COD AUT NC', inplace = True)\n"
     ]
    }
   ],
   "source": [
    "nc_no_proc.drop_duplicates('COD AUT NC', inplace = True)"
   ]
  },
  {
   "cell_type": "code",
   "execution_count": 157,
   "metadata": {},
   "outputs": [],
   "source": [
    "nc_no_proc = nc_no_proc[['COD AUT NC','ESTADO','VALOR DE DEVOLUCION']]"
   ]
  },
  {
   "cell_type": "code",
   "execution_count": 158,
   "metadata": {},
   "outputs": [],
   "source": [
    "nc_no_proc = nc_no_proc.loc[~nc_no_proc['COD AUT NC'].isin(caut_nc)]"
   ]
  },
  {
   "cell_type": "code",
   "execution_count": 159,
   "metadata": {},
   "outputs": [
    {
     "data": {
      "text/plain": [
       "3393"
      ]
     },
     "execution_count": 159,
     "metadata": {},
     "output_type": "execute_result"
    }
   ],
   "source": [
    "nc_no_proc['COD AUT NC'].nunique()"
   ]
  },
  {
   "cell_type": "code",
   "execution_count": 160,
   "metadata": {},
   "outputs": [
    {
     "data": {
      "text/plain": [
       "78389"
      ]
     },
     "execution_count": 160,
     "metadata": {},
     "output_type": "execute_result"
    }
   ],
   "source": [
    "nc['COD AUT NC'].nunique()"
   ]
  },
  {
   "cell_type": "code",
   "execution_count": 161,
   "metadata": {},
   "outputs": [],
   "source": [
    "final_nc = pd.concat([nc_gb_proc, nc_no_proc])"
   ]
  },
  {
   "cell_type": "code",
   "execution_count": 162,
   "metadata": {},
   "outputs": [
    {
     "data": {
      "text/plain": [
       "78388"
      ]
     },
     "execution_count": 162,
     "metadata": {},
     "output_type": "execute_result"
    }
   ],
   "source": [
    "final_nc['COD AUT NC'].nunique()"
   ]
  },
  {
   "cell_type": "code",
   "execution_count": 163,
   "metadata": {},
   "outputs": [
    {
     "data": {
      "text/plain": [
       "78388"
      ]
     },
     "execution_count": 163,
     "metadata": {},
     "output_type": "execute_result"
    }
   ],
   "source": [
    "nc.loc[nc['COD AUT NC'] != \"10009\"]['COD AUT NC'].nunique()"
   ]
  },
  {
   "cell_type": "code",
   "execution_count": 164,
   "metadata": {},
   "outputs": [],
   "source": [
    "final_nc.to_csv('221127_tesoreria_ntc.csv', index = False, sep = ';')"
   ]
  },
  {
   "cell_type": "code",
   "execution_count": 165,
   "metadata": {},
   "outputs": [
    {
     "data": {
      "text/html": [
       "<div>\n",
       "<style scoped>\n",
       "    .dataframe tbody tr th:only-of-type {\n",
       "        vertical-align: middle;\n",
       "    }\n",
       "\n",
       "    .dataframe tbody tr th {\n",
       "        vertical-align: top;\n",
       "    }\n",
       "\n",
       "    .dataframe thead th {\n",
       "        text-align: right;\n",
       "    }\n",
       "</style>\n",
       "<table border=\"1\" class=\"dataframe\">\n",
       "  <thead>\n",
       "    <tr style=\"text-align: right;\">\n",
       "      <th></th>\n",
       "      <th>COD AUT NC</th>\n",
       "      <th>ESTADO</th>\n",
       "      <th>VALOR DE DEVOLUCION</th>\n",
       "    </tr>\n",
       "  </thead>\n",
       "  <tbody>\n",
       "    <tr>\n",
       "      <th>0</th>\n",
       "      <td>081815</td>\n",
       "      <td>PROCESADA</td>\n",
       "      <td>835900</td>\n",
       "    </tr>\n",
       "    <tr>\n",
       "      <th>1</th>\n",
       "      <td>1003169734</td>\n",
       "      <td>PROCESADA</td>\n",
       "      <td>187480</td>\n",
       "    </tr>\n",
       "    <tr>\n",
       "      <th>2</th>\n",
       "      <td>1013577389</td>\n",
       "      <td>PROCESADA</td>\n",
       "      <td>3041019</td>\n",
       "    </tr>\n",
       "    <tr>\n",
       "      <th>3</th>\n",
       "      <td>1013621545</td>\n",
       "      <td>PROCESADA</td>\n",
       "      <td>269930</td>\n",
       "    </tr>\n",
       "    <tr>\n",
       "      <th>4</th>\n",
       "      <td>1047260785</td>\n",
       "      <td>PROCESADA</td>\n",
       "      <td>169990</td>\n",
       "    </tr>\n",
       "    <tr>\n",
       "      <th>...</th>\n",
       "      <td>...</td>\n",
       "      <td>...</td>\n",
       "      <td>...</td>\n",
       "    </tr>\n",
       "    <tr>\n",
       "      <th>79188</th>\n",
       "      <td>1075723894 -1075723894</td>\n",
       "      <td>RECHAZADA</td>\n",
       "      <td>90731</td>\n",
       "    </tr>\n",
       "    <tr>\n",
       "      <th>79218</th>\n",
       "      <td>1082210509</td>\n",
       "      <td>RECHAZADA</td>\n",
       "      <td>400780</td>\n",
       "    </tr>\n",
       "    <tr>\n",
       "      <th>79219</th>\n",
       "      <td>1082211544</td>\n",
       "      <td>RECHAZADA</td>\n",
       "      <td>78000</td>\n",
       "    </tr>\n",
       "    <tr>\n",
       "      <th>79220</th>\n",
       "      <td>1082218444</td>\n",
       "      <td>RECHAZADA</td>\n",
       "      <td>496792</td>\n",
       "    </tr>\n",
       "    <tr>\n",
       "      <th>79221</th>\n",
       "      <td>1082218772</td>\n",
       "      <td>RECHAZADA</td>\n",
       "      <td>58870</td>\n",
       "    </tr>\n",
       "  </tbody>\n",
       "</table>\n",
       "<p>78388 rows × 3 columns</p>\n",
       "</div>"
      ],
      "text/plain": [
       "                   COD AUT NC     ESTADO  VALOR DE DEVOLUCION\n",
       "0                      081815  PROCESADA               835900\n",
       "1                  1003169734  PROCESADA               187480\n",
       "2                  1013577389  PROCESADA              3041019\n",
       "3                  1013621545  PROCESADA               269930\n",
       "4                  1047260785  PROCESADA               169990\n",
       "...                       ...        ...                  ...\n",
       "79188  1075723894 -1075723894  RECHAZADA                90731\n",
       "79218              1082210509  RECHAZADA               400780\n",
       "79219              1082211544  RECHAZADA                78000\n",
       "79220              1082218444  RECHAZADA               496792\n",
       "79221              1082218772  RECHAZADA                58870\n",
       "\n",
       "[78388 rows x 3 columns]"
      ]
     },
     "execution_count": 165,
     "metadata": {},
     "output_type": "execute_result"
    }
   ],
   "source": [
    "final_nc"
   ]
  },
  {
   "cell_type": "markdown",
   "metadata": {},
   "source": [
    "SS"
   ]
  },
  {
   "cell_type": "code",
   "execution_count": 166,
   "metadata": {},
   "outputs": [],
   "source": [
    "ss = pd.read_excel('input/Base NC y SS.xlsx', sheet_name= 'SS', dtype = str)"
   ]
  },
  {
   "cell_type": "code",
   "execution_count": 167,
   "metadata": {},
   "outputs": [],
   "source": [
    "ss_proc = ss.loc[(ss['ESTADO'] == 'PROCESADA') & (ss['SS'] != '0')]"
   ]
  },
  {
   "cell_type": "code",
   "execution_count": 168,
   "metadata": {},
   "outputs": [
    {
     "data": {
      "text/plain": [
       "10862"
      ]
     },
     "execution_count": 168,
     "metadata": {},
     "output_type": "execute_result"
    }
   ],
   "source": [
    "ss_proc['SS'].nunique()"
   ]
  },
  {
   "cell_type": "code",
   "execution_count": 169,
   "metadata": {},
   "outputs": [
    {
     "name": "stderr",
     "output_type": "stream",
     "text": [
      "C:\\Users\\maperezr\\AppData\\Local\\Temp\\ipykernel_30852\\465985516.py:1: SettingWithCopyWarning: \n",
      "A value is trying to be set on a copy of a slice from a DataFrame.\n",
      "Try using .loc[row_indexer,col_indexer] = value instead\n",
      "\n",
      "See the caveats in the documentation: https://pandas.pydata.org/pandas-docs/stable/user_guide/indexing.html#returning-a-view-versus-a-copy\n",
      "  ss_proc['VALOR DE DEVOLUCION'] = ss_proc['VALOR DE DEVOLUCION'].astype(int)\n"
     ]
    }
   ],
   "source": [
    "ss_proc['VALOR DE DEVOLUCION'] = ss_proc['VALOR DE DEVOLUCION'].astype(int)"
   ]
  },
  {
   "cell_type": "code",
   "execution_count": 170,
   "metadata": {},
   "outputs": [
    {
     "name": "stderr",
     "output_type": "stream",
     "text": [
      "C:\\Users\\maperezr\\AppData\\Local\\Temp\\ipykernel_30852\\989855474.py:1: SettingWithCopyWarning: \n",
      "A value is trying to be set on a copy of a slice from a DataFrame\n",
      "\n",
      "See the caveats in the documentation: https://pandas.pydata.org/pandas-docs/stable/user_guide/indexing.html#returning-a-view-versus-a-copy\n",
      "  ss_proc.drop_duplicates(['SS', 'COD AUTORIZACION', 'MONTO TOTAL', '4 DIG TARJETA'], inplace = True)\n"
     ]
    }
   ],
   "source": [
    "ss_proc.drop_duplicates(['SS', 'COD AUTORIZACION', 'MONTO TOTAL', '4 DIG TARJETA'], inplace = True)"
   ]
  },
  {
   "cell_type": "code",
   "execution_count": 171,
   "metadata": {},
   "outputs": [],
   "source": [
    "ss_gb_proc = ss_proc.groupby(['SS','ESTADO'])['VALOR DE DEVOLUCION'].sum().reset_index()\n",
    "caut_ss = ss_proc.groupby(['SS','ESTADO'])['VALOR DE DEVOLUCION'].sum().reset_index()['SS']"
   ]
  },
  {
   "cell_type": "code",
   "execution_count": 172,
   "metadata": {},
   "outputs": [
    {
     "data": {
      "text/plain": [
       "11846"
      ]
     },
     "execution_count": 172,
     "metadata": {},
     "output_type": "execute_result"
    }
   ],
   "source": [
    "10862 + 984"
   ]
  },
  {
   "cell_type": "code",
   "execution_count": 173,
   "metadata": {},
   "outputs": [
    {
     "data": {
      "text/plain": [
       "(10862, 3)"
      ]
     },
     "execution_count": 173,
     "metadata": {},
     "output_type": "execute_result"
    }
   ],
   "source": [
    "ss_gb_proc.shape"
   ]
  },
  {
   "cell_type": "code",
   "execution_count": 174,
   "metadata": {},
   "outputs": [],
   "source": [
    "ss_no_proc = ss.loc[(ss['ESTADO'] != 'PROCESADA') & (ss['SS'] != 0)]"
   ]
  },
  {
   "cell_type": "code",
   "execution_count": 175,
   "metadata": {},
   "outputs": [
    {
     "data": {
      "text/plain": [
       "985"
      ]
     },
     "execution_count": 175,
     "metadata": {},
     "output_type": "execute_result"
    }
   ],
   "source": [
    "ss_no_proc['SS'].nunique()"
   ]
  },
  {
   "cell_type": "code",
   "execution_count": 176,
   "metadata": {},
   "outputs": [
    {
     "name": "stderr",
     "output_type": "stream",
     "text": [
      "C:\\Users\\maperezr\\AppData\\Local\\Temp\\ipykernel_30852\\4051014238.py:1: SettingWithCopyWarning: \n",
      "A value is trying to be set on a copy of a slice from a DataFrame\n",
      "\n",
      "See the caveats in the documentation: https://pandas.pydata.org/pandas-docs/stable/user_guide/indexing.html#returning-a-view-versus-a-copy\n",
      "  ss_no_proc.drop_duplicates('SS', inplace = True)\n"
     ]
    }
   ],
   "source": [
    "ss_no_proc.drop_duplicates('SS', inplace = True)"
   ]
  },
  {
   "cell_type": "code",
   "execution_count": 177,
   "metadata": {},
   "outputs": [],
   "source": [
    "ss_no_proc = ss_no_proc[['SS','ESTADO','VALOR DE DEVOLUCION']]"
   ]
  },
  {
   "cell_type": "code",
   "execution_count": 178,
   "metadata": {},
   "outputs": [],
   "source": [
    "ss_no_proc = ss_no_proc.loc[~ss_no_proc['SS'].isin(caut_ss)]"
   ]
  },
  {
   "cell_type": "code",
   "execution_count": 179,
   "metadata": {},
   "outputs": [],
   "source": [
    "final_ss = pd.concat([ss_gb_proc, ss_no_proc, nc_proc_cm])"
   ]
  },
  {
   "cell_type": "code",
   "execution_count": 180,
   "metadata": {},
   "outputs": [],
   "source": [
    "final_ss.to_csv('221127_tesoreria_sieb.csv', index = False, sep = ';')"
   ]
  }
 ],
 "metadata": {
  "kernelspec": {
   "display_name": "Python 3.9.12 ('base')",
   "language": "python",
   "name": "python3"
  },
  "language_info": {
   "codemirror_mode": {
    "name": "ipython",
    "version": 3
   },
   "file_extension": ".py",
   "mimetype": "text/x-python",
   "name": "python",
   "nbconvert_exporter": "python",
   "pygments_lexer": "ipython3",
   "version": "3.9.12"
  },
  "orig_nbformat": 4,
  "vscode": {
   "interpreter": {
    "hash": "82a490cbc5ab7ede3fb5f9c339977e226ff85331602536a0bba4d2a51bd464ee"
   }
  }
 },
 "nbformat": 4,
 "nbformat_minor": 2
}
